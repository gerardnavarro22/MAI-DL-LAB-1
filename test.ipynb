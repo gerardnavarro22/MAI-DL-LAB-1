{
 "cells": [
  {
   "cell_type": "code",
   "execution_count": 12,
   "metadata": {},
   "outputs": [],
   "source": [
    "from MAMEDataset import MAMEDataset\n",
    "import random\n",
    "import numpy as np\n",
    "import matplotlib.pyplot as plt\n",
    "import cv2"
   ]
  },
  {
   "cell_type": "code",
   "execution_count": 2,
   "metadata": {},
   "outputs": [],
   "source": [
    "train_dataset = MAMEDataset(fr'C:/Users/gerard.navarro/Documents/MAI/MAI-DL-LAB-1/datasets/processed/mame/train/labels.csv', \n",
    "                            fr'C:/Users/gerard.navarro/Documents/MAI/MAI-DL-LAB-1/datasets/processed/mame/train')"
   ]
  },
  {
   "cell_type": "code",
   "execution_count": 10,
   "metadata": {},
   "outputs": [],
   "source": [
    "images_idx_to_show = random.sample(range(0, len(train_dataset)), 25)"
   ]
  },
  {
   "cell_type": "code",
   "execution_count": 11,
   "metadata": {},
   "outputs": [
    {
     "data": {
      "text/plain": [
       "[46,\n",
       " 866,\n",
       " 843,\n",
       " 1184,\n",
       " 1340,\n",
       " 1273,\n",
       " 1072,\n",
       " 525,\n",
       " 1312,\n",
       " 400,\n",
       " 28,\n",
       " 564,\n",
       " 579,\n",
       " 833,\n",
       " 747,\n",
       " 1164,\n",
       " 1146,\n",
       " 825,\n",
       " 932,\n",
       " 1288,\n",
       " 1205,\n",
       " 1284,\n",
       " 226,\n",
       " 838,\n",
       " 779]"
      ]
     },
     "execution_count": 11,
     "metadata": {},
     "output_type": "execute_result"
    }
   ],
   "source": [
    "fig, axs = plt.subplots(nrows=5, ncols=5, figsize=(9, 9))\n",
    "\n",
    "for ax, img_idx in zip(axs.flat, images_idx_to_show):\n",
    "    image = cv2.cvtColor(train_dataset[images_idx_to_show[img_idx]]['image'], cv2.COLOR_BGR2RGB)\n",
    "    ax.imshow(image)\n",
    "\n",
    "plt.tight_layout()\n",
    "plt.show()"
   ]
  },
  {
   "cell_type": "code",
   "execution_count": null,
   "metadata": {},
   "outputs": [],
   "source": []
  }
 ],
 "metadata": {
  "kernelspec": {
   "display_name": "Python 3.8.0 ('venvcuda')",
   "language": "python",
   "name": "python3"
  },
  "language_info": {
   "codemirror_mode": {
    "name": "ipython",
    "version": 3
   },
   "file_extension": ".py",
   "mimetype": "text/x-python",
   "name": "python",
   "nbconvert_exporter": "python",
   "pygments_lexer": "ipython3",
   "version": "3.8.0"
  },
  "orig_nbformat": 4,
  "vscode": {
   "interpreter": {
    "hash": "b225bfd1310d691953f67ae70cc0216358daf9c50db4a519d17aaa5abb544828"
   }
  }
 },
 "nbformat": 4,
 "nbformat_minor": 2
}
